{
  "nbformat": 4,
  "nbformat_minor": 0,
  "metadata": {
    "colab": {
      "provenance": [],
      "authorship_tag": "ABX9TyPh0GBXA2yKrp6hGUu5tNxB",
      "include_colab_link": true
    },
    "kernelspec": {
      "name": "python3",
      "display_name": "Python 3"
    },
    "language_info": {
      "name": "python"
    }
  },
  "cells": [
    {
      "cell_type": "markdown",
      "metadata": {
        "id": "view-in-github",
        "colab_type": "text"
      },
      "source": [
        "<a href=\"https://colab.research.google.com/github/kdemertzis/Earthquakes/blob/main/Dif_Dynamic_Final_MOrfidis.ipynb\" target=\"_parent\"><img src=\"https://colab.research.google.com/assets/colab-badge.svg\" alt=\"Open In Colab\"/></a>"
      ]
    },
    {
      "cell_type": "markdown",
      "source": [
        "**++++++++++++++++++++++++++++++++++++++++++++++++++**"
      ],
      "metadata": {
        "id": "OQnC5Thf5wRt"
      }
    },
    {
      "cell_type": "code",
      "source": [
        "import numpy as np\n",
        "import pandas as pd\n",
        "import matplotlib.pyplot as plt\n",
        "from scipy.integrate import solve_ivp\n",
        "from sklearn.ensemble import RandomForestRegressor\n",
        "from sklearn.metrics import mean_absolute_error, mean_squared_error, r2_score\n",
        "\n",
        "# Define the differential equation\n",
        "def diff_eq(t, y, params):\n",
        "    a, b = params\n",
        "    dydt = a * y + b\n",
        "    return dydt\n",
        "\n",
        "# Define the analytical solution\n",
        "def analytical_solution(t, y0, params):\n",
        "    a, b = params\n",
        "    return y0 * np.exp(a * t) + b * (np.exp(a * t) - 1) / a\n",
        "\n",
        "# Initial conditions\n",
        "t0 = 0\n",
        "tf = 10\n",
        "y0 = 1\n",
        "params = (1, 2)\n",
        "\n",
        "# Numerical solution using solve_ivp\n",
        "sol = solve_ivp(lambda t, y: diff_eq(t, y, params), [t0, tf], [y0], t_eval=np.linspace(t0, tf, 100))\n",
        "\n",
        "# Store the numerical results\n",
        "numerical_results = sol.y[0]\n",
        "\n",
        "# Calculate the analytical results\n",
        "t_eval = sol.t\n",
        "analytical_results = analytical_solution(t_eval, y0, params)\n",
        "\n",
        "# RandomForestRegressor Model\n",
        "reg = RandomForestRegressor().fit(t_eval.reshape(-1, 1), numerical_results)\n",
        "reg_results = reg.predict(t_eval.reshape(-1, 1))\n",
        "\n",
        "# Compare the results\n",
        "plt.plot(t_eval, numerical_results, label='Numerical')\n",
        "plt.plot(t_eval, analytical_results, label='Analytical')\n",
        "plt.plot(t_eval, reg_results, label='RandomForestRegressor')\n",
        "plt.xlabel('Time (t)')\n",
        "plt.ylabel('y(t)')\n",
        "plt.legend()\n",
        "plt.show()\n",
        "\n",
        "# Store the results in a DataFrame\n",
        "results = pd.DataFrame({'t': t_eval, 'Numerical': numerical_results, 'Analytical': analytical_results, 'RandomForestRegressor': reg_results})\n",
        "\n",
        "# Display the results in a table\n",
        "print(results)\n",
        "\n",
        "# Display performance metrics for numerical vs analytical\n",
        "print('Numerical vs Analytical Metrics:')\n",
        "print('Mean Absolute Error:', mean_absolute_error(results['Numerical'], results['Analytical']))\n",
        "print('Mean Squared Error:', mean_squared_error(results['Numerical'], results['Analytical']))\n",
        "print('R2 Score:', r2_score(results['Numerical'], results['Analytical']))\n",
        "\n",
        "# Display performance metrics for numerical vs RandomForestRegressor\n",
        "print('Numerical vs RandomForestRegressor:')\n",
        "print('Mean Absolute Error:', mean_absolute_error(results['Numerical'], results['RandomForestRegressor']))\n",
        "print('Mean Squared Error:', mean_squared_error(results['Numerical'], results['RandomForestRegressor']))\n",
        "print('R2 Score:', r2_score(results['Numerical'], results['RandomForestRegressor']))\n",
        "\n",
        "\n",
        "# Display performance metrics for analytical vs RandomForestRegressor\n",
        "print('Analytical vs RandomForestRegressor:')\n",
        "print('Mean Absolute Error:', mean_absolute_error(results['Analytical'], results['RandomForestRegressor']))\n",
        "print('Mean Squared Error:', mean_squared_error(results['Analytical'], results['RandomForestRegressor']))\n",
        "print('R2 Score:', r2_score(results['Analytical'], results['RandomForestRegressor']))"
      ],
      "metadata": {
        "colab": {
          "base_uri": "https://localhost:8080/",
          "height": 730
        },
        "id": "Eiu-2OqdUdbN",
        "outputId": "445af50d-5e50-4a48-afde-a97c1b046f69"
      },
      "execution_count": 2,
      "outputs": [
        {
          "output_type": "display_data",
          "data": {
            "text/plain": [
              "<Figure size 432x288 with 1 Axes>"
            ],
            "image/png": "[encoded data removed]"
          },
          "metadata": {
            "needs_background": "light"
          }
        },
        {
          "output_type": "stream",
          "name": "stdout",
          "text": [
            "           t     Numerical    Analytical  RandomForestRegressor\n",
            "0    0.00000      1.000000      1.000000               1.196660\n",
            "1    0.10101      1.318867      1.318863               1.317830\n",
            "2    0.20202      1.671683      1.671618               1.659223\n",
            "3    0.30303      2.061964      2.061866               2.148347\n",
            "4    0.40404      2.493648      2.493593               2.428435\n",
            "..       ...           ...           ...                    ...\n",
            "95   9.59596  44083.928874  44113.738711           43338.187043\n",
            "96   9.69697  48772.337832  48802.704244           50418.448076\n",
            "97   9.79798  53961.675934  53990.049685           53172.397062\n",
            "98   9.89899  59703.368783  59728.746745           58768.760784\n",
            "99  10.00000  66052.523005  66077.397384           62593.147949\n",
            "\n",
            "[100 rows x 4 columns]\n",
            "Numerical vs Analytical Metrics:\n",
            "Mean Absolute Error: 3.405575786871402\n",
            "Mean Squared Error: 63.39108929558026\n",
            "R2 Score: 0.9999996684881872\n",
            "Numerical vs RandomForestRegressor:\n",
            "Mean Absolute Error: 138.78207641938897\n",
            "Mean Squared Error: 189651.4695757604\n",
            "R2 Score: 0.999008193372666\n",
            "Analytical vs RandomForestRegressor:\n",
            "Mean Absolute Error: 140.41071842019335\n",
            "Mean Squared Error: 192408.36815877873\n",
            "R2 Score: 0.9989947716425222\n"
          ]
        }
      ]
    },
    {
      "cell_type": "markdown",
      "source": [
        "The above code is a Python script that performs a comparison between a numerical solution, an analytical solution, and a machine learning model's prediction of a differential equation.\n",
        "\n",
        "The differential equation is defined by the function diff_eq, which takes the time t, the solution y, and the parameters params as inputs. The parameters a and b are used in the differential equation to calculate the derivative of y with respect to t.\n",
        "\n",
        "The analytical solution to the differential equation is defined by the function analytical_solution. This function takes the time t, the initial condition y0, and the parameters params as inputs and returns the analytical solution.\n",
        "\n",
        "The initial conditions of the differential equation are set with t0, tf, and y0. The params are set to (1, 2).\n",
        "\n",
        "The numerical solution to the differential equation is obtained using the solve_ivp function from the scipy.integrate library. This function takes a lambda function that defines the differential equation, a time interval [t0, tf], the initial condition y0, and a time array t_eval as inputs and returns the numerical solution.\n",
        "\n",
        "A machine learning model, a RandomForestRegressor, is trained on the numerical solution and used to predict the solution at each time in t_eval.\n",
        "\n",
        "The numerical solution, the analytical solution, and the model's prediction are plotted and compared. Performance metrics, including mean absolute error, mean squared error, and R2 score, are calculated for each comparison and printed."
      ],
      "metadata": {
        "id": "2IypdDOnWkKn"
      }
    },
    {
      "cell_type": "markdown",
      "source": [
        "The code appears to be solving an ordinary differential equation (ODE) that models the behavior of a system over time. The ODE is defined as:\n",
        "\n",
        "dy/dt = a * y + b\n",
        "\n",
        "where \"y\" is the dependent variable, \"t\" is time, \"a\" and \"b\" are parameters of the ODE. The code uses the scipy library's \"solve_ivp\" function to numerically solve the ODE and find the solution for the dependent variable \"y\" at different times \"t\".\n",
        "\n",
        "The code then compares the numerical solution of the ODE to an analytical solution, which can be found using the following expression:\n",
        "\n",
        "y = y0 * exp(a * t) + b * (exp(a * t) - 1) / a\n",
        "\n",
        "where y0 is the initial condition of the dependent variable.\n",
        "\n",
        "Additionally, the code uses a machine learning model, specifically a Random Forest Regressor, to fit a model to the numerical solution and compare its predictions with both the numerical and analytical solutions.\n",
        "\n",
        "Overall, the problem being solved by this code is to find the behavior of a system over time, given the initial conditions and parameters of the ODE, and to compare the numerical and analytical solutions to a machine learning model.\n",
        "\n",
        "The methods used in the above code are dynamic, meaning they model the behavior of a system over time. The ordinary differential equation (ODE) defined in the code describes the change in the dependent variable \"y\" with respect to time \"t\". The numerical solution of the ODE using the \"solve_ivp\" function generates the behavior of the system at different points in time. The machine learning model, Random Forest Regressor, also predicts the behavior of the system over time based on the input data.\n",
        "\n",
        "In contrast, static methods would model the relationship between variables at a single point in time, rather than how they change over time."
      ],
      "metadata": {
        "id": "o_46fmBOXMJl"
      }
    },
    {
      "cell_type": "markdown",
      "source": [
        "The three methods used to solve the ordinary differential equation (ODE) in the code are:\n",
        "\n",
        "Numerical solution using \"solve_ivp\": This method uses numerical integration to approximate the solution of the ODE. In this case, the \"solve_ivp\" function from the \"scipy\" library is used to numerically solve the ODE and generate the behavior of the system over time.\n",
        "\n",
        "Analytical solution: This method provides an exact solution to the ODE in terms of mathematical functions. In this case, the analytical solution to the ODE is defined by a function called \"analytical_solution\". The solution is calculated based on the initial conditions and parameters of the ODE.\n",
        "\n",
        "Machine learning model (Random Forest Regressor): This method uses machine learning techniques to predict the behavior of the system. The machine learning model, Random Forest Regressor, is trained using the numerical solution of the ODE, and it predicts the behavior of the system over time based on the input data.\n",
        "\n",
        "The code compares the results of these three methods and calculates various performance metrics, such as mean absolute error, mean squared error, and R2 score, to compare the accuracy of the numerical and analytical solutions against the Random Forest Regressor model."
      ],
      "metadata": {
        "id": "uP8gQyfcXj1R"
      }
    },
    {
      "cell_type": "markdown",
      "source": [
        "There are three methods used in the code: numerical integration, analytical solution, and machine learning (Random Forest Regressor).\n",
        "\n",
        "Advantages of numerical integration:\n",
        "\n",
        "Ability to handle complex and non-linear differential equations that cannot be solved analytically.\n",
        "Ability to estimate the solution for a range of initial conditions and parameters.\n",
        "Disadvantages of numerical integration:\n",
        "\n",
        "Numerical errors can accumulate, especially for long simulation times or highly non-linear systems.\n",
        "Numerical integration can be computationally expensive.\n",
        "Advantages of analytical solution:\n",
        "\n",
        "It provides an exact solution to the differential equation.\n",
        "It is a more efficient way of solving the differential equation compared to numerical integration.\n",
        "Disadvantages of analytical solution:\n",
        "\n",
        "Analytical solutions may not be available for complex or non-linear differential equations.\n",
        "It may not be possible to find an analytical solution for the differential equation even if it is relatively simple.\n",
        "Advantages of machine learning (Random Forest Regressor):\n",
        "\n",
        "It can be used to model complex, non-linear systems where analytical solutions are not available.\n",
        "Machine learning models can capture patterns in the data and make predictions with high accuracy.\n",
        "Disadvantages of machine learning (Random Forest Regressor):\n",
        "\n",
        "Machine learning models are not deterministic, so there is some randomness in the results.\n",
        "Machine learning models may overfit the data, leading to poor predictions on unseen data.\n",
        "The accuracy of machine learning models depends on the quality and quantity of the training data."
      ],
      "metadata": {
        "id": "xJEpPpKxYGLd"
      }
    },
    {
      "cell_type": "markdown",
      "source": [
        "Each of the models has its own strengths and weaknesses and the superiority of one model over the others depends on the specific problem and the requirements of the solution. The numerical solution using the solve_ivp function provides an accurate solution, but is computationally expensive. The analytical solution is more straightforward and computationally efficient, but may not be possible to obtain in all cases. The Random Forest Regressor model provides a fast approximation of the solution, but may not be as accurate as the numerical or analytical solution, especially if the model is over- or under-fitting the data."
      ],
      "metadata": {
        "id": "cBDPSTVRYIK6"
      }
    }
  ]
}