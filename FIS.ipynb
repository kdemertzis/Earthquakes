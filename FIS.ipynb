{
  "metadata": {
    "language_info": {
      "codemirror_mode": {
        "name": "ipython",
        "version": 3
      },
      "file_extension": ".py",
      "mimetype": "text/x-python",
      "name": "python",
      "nbconvert_exporter": "python",
      "pygments_lexer": "ipython3",
      "version": "3.9.5"
    },
    "orig_nbformat": 4,
    "kernelspec": {
      "name": "python3",
      "display_name": "Python 3.9.5 64-bit"
    },
    "interpreter": {
      "hash": "4cd7ab41f5fca4b9b44701077e38c5ffd31fe66a6cab21e0214b68d958d0e462"
    },
    "colab": {
      "name": "docs.ipynb",
      "provenance": [],
      "include_colab_link": true
    }
  },
  "nbformat": 4,
  "nbformat_minor": 0,
  "cells": [
    {
      "cell_type": "markdown",
      "metadata": {
        "id": "view-in-github",
        "colab_type": "text"
      },
      "source": [
        "<a href=\"https://colab.research.google.com/github/kdemertzis/Earthquakes/blob/main/FIS.ipynb\" target=\"_parent\"><img src=\"https://colab.research.google.com/assets/colab-badge.svg\" alt=\"Open In Colab\"/></a>"
      ]
    },
    {
      "cell_type": "code",
      "source": [
        "!pip install fuzzy_expert"
      ],
      "metadata": {
        "id": "pD7xkDt25XiT",
        "outputId": "e4659c77-737f-4475-a1b5-a02fdf3cec0b",
        "colab": {
          "base_uri": "https://localhost:8080/"
        }
      },
      "execution_count": 1,
      "outputs": [
        {
          "output_type": "stream",
          "name": "stdout",
          "text": [
            "Looking in indexes: https://pypi.org/simple, https://us-python.pkg.dev/colab-wheels/public/simple/\n",
            "Collecting fuzzy_expert\n",
            "  Downloading fuzzy_expert-0.1.0.tar.gz (16 kB)\n",
            "Requirement already satisfied: numpy in /usr/local/lib/python3.7/dist-packages (from fuzzy_expert) (1.21.6)\n",
            "Requirement already satisfied: matplotlib in /usr/local/lib/python3.7/dist-packages (from fuzzy_expert) (3.2.2)\n",
            "Requirement already satisfied: progressbar2 in /usr/local/lib/python3.7/dist-packages (from fuzzy_expert) (3.38.0)\n",
            "Requirement already satisfied: pandas in /usr/local/lib/python3.7/dist-packages (from fuzzy_expert) (1.3.5)\n",
            "Requirement already satisfied: ipywidgets in /usr/local/lib/python3.7/dist-packages (from fuzzy_expert) (7.7.0)\n",
            "Requirement already satisfied: ipython-genutils~=0.2.0 in /usr/local/lib/python3.7/dist-packages (from ipywidgets->fuzzy_expert) (0.2.0)\n",
            "Requirement already satisfied: jupyterlab-widgets>=1.0.0 in /usr/local/lib/python3.7/dist-packages (from ipywidgets->fuzzy_expert) (1.1.0)\n",
            "Requirement already satisfied: ipython>=4.0.0 in /usr/local/lib/python3.7/dist-packages (from ipywidgets->fuzzy_expert) (5.5.0)\n",
            "Requirement already satisfied: traitlets>=4.3.1 in /usr/local/lib/python3.7/dist-packages (from ipywidgets->fuzzy_expert) (5.1.1)\n",
            "Requirement already satisfied: widgetsnbextension~=3.6.0 in /usr/local/lib/python3.7/dist-packages (from ipywidgets->fuzzy_expert) (3.6.0)\n",
            "Requirement already satisfied: ipykernel>=4.5.1 in /usr/local/lib/python3.7/dist-packages (from ipywidgets->fuzzy_expert) (4.10.1)\n",
            "Requirement already satisfied: nbformat>=4.2.0 in /usr/local/lib/python3.7/dist-packages (from ipywidgets->fuzzy_expert) (5.4.0)\n",
            "Requirement already satisfied: tornado>=4.0 in /usr/local/lib/python3.7/dist-packages (from ipykernel>=4.5.1->ipywidgets->fuzzy_expert) (5.1.1)\n",
            "Requirement already satisfied: jupyter-client in /usr/local/lib/python3.7/dist-packages (from ipykernel>=4.5.1->ipywidgets->fuzzy_expert) (5.3.5)\n",
            "Requirement already satisfied: decorator in /usr/local/lib/python3.7/dist-packages (from ipython>=4.0.0->ipywidgets->fuzzy_expert) (4.4.2)\n",
            "Requirement already satisfied: pickleshare in /usr/local/lib/python3.7/dist-packages (from ipython>=4.0.0->ipywidgets->fuzzy_expert) (0.7.5)\n",
            "Requirement already satisfied: pexpect in /usr/local/lib/python3.7/dist-packages (from ipython>=4.0.0->ipywidgets->fuzzy_expert) (4.8.0)\n",
            "Requirement already satisfied: setuptools>=18.5 in /usr/local/lib/python3.7/dist-packages (from ipython>=4.0.0->ipywidgets->fuzzy_expert) (57.4.0)\n",
            "Requirement already satisfied: simplegeneric>0.8 in /usr/local/lib/python3.7/dist-packages (from ipython>=4.0.0->ipywidgets->fuzzy_expert) (0.8.1)\n",
            "Requirement already satisfied: prompt-toolkit<2.0.0,>=1.0.4 in /usr/local/lib/python3.7/dist-packages (from ipython>=4.0.0->ipywidgets->fuzzy_expert) (1.0.18)\n",
            "Requirement already satisfied: pygments in /usr/local/lib/python3.7/dist-packages (from ipython>=4.0.0->ipywidgets->fuzzy_expert) (2.6.1)\n",
            "Requirement already satisfied: jsonschema>=2.6 in /usr/local/lib/python3.7/dist-packages (from nbformat>=4.2.0->ipywidgets->fuzzy_expert) (4.3.3)\n",
            "Requirement already satisfied: jupyter-core in /usr/local/lib/python3.7/dist-packages (from nbformat>=4.2.0->ipywidgets->fuzzy_expert) (4.10.0)\n",
            "Requirement already satisfied: fastjsonschema in /usr/local/lib/python3.7/dist-packages (from nbformat>=4.2.0->ipywidgets->fuzzy_expert) (2.15.3)\n",
            "Requirement already satisfied: importlib-metadata in /usr/local/lib/python3.7/dist-packages (from jsonschema>=2.6->nbformat>=4.2.0->ipywidgets->fuzzy_expert) (4.11.4)\n",
            "Requirement already satisfied: importlib-resources>=1.4.0 in /usr/local/lib/python3.7/dist-packages (from jsonschema>=2.6->nbformat>=4.2.0->ipywidgets->fuzzy_expert) (5.7.1)\n",
            "Requirement already satisfied: attrs>=17.4.0 in /usr/local/lib/python3.7/dist-packages (from jsonschema>=2.6->nbformat>=4.2.0->ipywidgets->fuzzy_expert) (21.4.0)\n",
            "Requirement already satisfied: pyrsistent!=0.17.0,!=0.17.1,!=0.17.2,>=0.14.0 in /usr/local/lib/python3.7/dist-packages (from jsonschema>=2.6->nbformat>=4.2.0->ipywidgets->fuzzy_expert) (0.18.1)\n",
            "Requirement already satisfied: typing-extensions in /usr/local/lib/python3.7/dist-packages (from jsonschema>=2.6->nbformat>=4.2.0->ipywidgets->fuzzy_expert) (4.1.1)\n",
            "Requirement already satisfied: zipp>=3.1.0 in /usr/local/lib/python3.7/dist-packages (from importlib-resources>=1.4.0->jsonschema>=2.6->nbformat>=4.2.0->ipywidgets->fuzzy_expert) (3.8.0)\n",
            "Requirement already satisfied: wcwidth in /usr/local/lib/python3.7/dist-packages (from prompt-toolkit<2.0.0,>=1.0.4->ipython>=4.0.0->ipywidgets->fuzzy_expert) (0.2.5)\n",
            "Requirement already satisfied: six>=1.9.0 in /usr/local/lib/python3.7/dist-packages (from prompt-toolkit<2.0.0,>=1.0.4->ipython>=4.0.0->ipywidgets->fuzzy_expert) (1.15.0)\n",
            "Requirement already satisfied: notebook>=4.4.1 in /usr/local/lib/python3.7/dist-packages (from widgetsnbextension~=3.6.0->ipywidgets->fuzzy_expert) (5.3.1)\n",
            "Requirement already satisfied: Send2Trash in /usr/local/lib/python3.7/dist-packages (from notebook>=4.4.1->widgetsnbextension~=3.6.0->ipywidgets->fuzzy_expert) (1.8.0)\n",
            "Requirement already satisfied: nbconvert in /usr/local/lib/python3.7/dist-packages (from notebook>=4.4.1->widgetsnbextension~=3.6.0->ipywidgets->fuzzy_expert) (5.6.1)\n",
            "Requirement already satisfied: terminado>=0.8.1 in /usr/local/lib/python3.7/dist-packages (from notebook>=4.4.1->widgetsnbextension~=3.6.0->ipywidgets->fuzzy_expert) (0.13.3)\n",
            "Requirement already satisfied: jinja2 in /usr/local/lib/python3.7/dist-packages (from notebook>=4.4.1->widgetsnbextension~=3.6.0->ipywidgets->fuzzy_expert) (2.11.3)\n",
            "Requirement already satisfied: python-dateutil>=2.1 in /usr/local/lib/python3.7/dist-packages (from jupyter-client->ipykernel>=4.5.1->ipywidgets->fuzzy_expert) (2.8.2)\n",
            "Requirement already satisfied: pyzmq>=13 in /usr/local/lib/python3.7/dist-packages (from jupyter-client->ipykernel>=4.5.1->ipywidgets->fuzzy_expert) (23.1.0)\n",
            "Requirement already satisfied: ptyprocess in /usr/local/lib/python3.7/dist-packages (from terminado>=0.8.1->notebook>=4.4.1->widgetsnbextension~=3.6.0->ipywidgets->fuzzy_expert) (0.7.0)\n",
            "Requirement already satisfied: MarkupSafe>=0.23 in /usr/local/lib/python3.7/dist-packages (from jinja2->notebook>=4.4.1->widgetsnbextension~=3.6.0->ipywidgets->fuzzy_expert) (2.0.1)\n",
            "Requirement already satisfied: pyparsing!=2.0.4,!=2.1.2,!=2.1.6,>=2.0.1 in /usr/local/lib/python3.7/dist-packages (from matplotlib->fuzzy_expert) (3.0.9)\n",
            "Requirement already satisfied: cycler>=0.10 in /usr/local/lib/python3.7/dist-packages (from matplotlib->fuzzy_expert) (0.11.0)\n",
            "Requirement already satisfied: kiwisolver>=1.0.1 in /usr/local/lib/python3.7/dist-packages (from matplotlib->fuzzy_expert) (1.4.3)\n",
            "Requirement already satisfied: defusedxml in /usr/local/lib/python3.7/dist-packages (from nbconvert->notebook>=4.4.1->widgetsnbextension~=3.6.0->ipywidgets->fuzzy_expert) (0.7.1)\n",
            "Requirement already satisfied: pandocfilters>=1.4.1 in /usr/local/lib/python3.7/dist-packages (from nbconvert->notebook>=4.4.1->widgetsnbextension~=3.6.0->ipywidgets->fuzzy_expert) (1.5.0)\n",
            "Requirement already satisfied: entrypoints>=0.2.2 in /usr/local/lib/python3.7/dist-packages (from nbconvert->notebook>=4.4.1->widgetsnbextension~=3.6.0->ipywidgets->fuzzy_expert) (0.4)\n",
            "Requirement already satisfied: mistune<2,>=0.8.1 in /usr/local/lib/python3.7/dist-packages (from nbconvert->notebook>=4.4.1->widgetsnbextension~=3.6.0->ipywidgets->fuzzy_expert) (0.8.4)\n",
            "Requirement already satisfied: bleach in /usr/local/lib/python3.7/dist-packages (from nbconvert->notebook>=4.4.1->widgetsnbextension~=3.6.0->ipywidgets->fuzzy_expert) (5.0.0)\n",
            "Requirement already satisfied: testpath in /usr/local/lib/python3.7/dist-packages (from nbconvert->notebook>=4.4.1->widgetsnbextension~=3.6.0->ipywidgets->fuzzy_expert) (0.6.0)\n",
            "Requirement already satisfied: webencodings in /usr/local/lib/python3.7/dist-packages (from bleach->nbconvert->notebook>=4.4.1->widgetsnbextension~=3.6.0->ipywidgets->fuzzy_expert) (0.5.1)\n",
            "Requirement already satisfied: pytz>=2017.3 in /usr/local/lib/python3.7/dist-packages (from pandas->fuzzy_expert) (2022.1)\n",
            "Requirement already satisfied: python-utils>=2.3.0 in /usr/local/lib/python3.7/dist-packages (from progressbar2->fuzzy_expert) (3.3.3)\n",
            "Building wheels for collected packages: fuzzy-expert\n",
            "  Building wheel for fuzzy-expert (setup.py) ... \u001b[?25l\u001b[?25hdone\n",
            "  Created wheel for fuzzy-expert: filename=fuzzy_expert-0.1.0-py3-none-any.whl size=18505 sha256=ccf43f6138e0aef443494ab1131f9222584e458cc6034113e931868b5da51912\n",
            "  Stored in directory: /root/.cache/pip/wheels/cf/b5/18/2f57a9ceaaf1a27086683399ebc7bb9a69c9d46fb06ff031d2\n",
            "Successfully built fuzzy-expert\n",
            "Installing collected packages: fuzzy-expert\n",
            "Successfully installed fuzzy-expert-0.1.0\n"
          ]
        }
      ]
    },
    {
      "cell_type": "code",
      "execution_count": 3,
      "metadata": {
        "id": "kf-Ar1e25WiM"
      },
      "outputs": [],
      "source": [
        "import os\n",
        "\n",
        "#os.chdir('/workspaces/fuzzy-expert')"
      ]
    },
    {
      "cell_type": "code",
      "execution_count": 4,
      "metadata": {
        "id": "dIK93eNy5WiN",
        "outputId": "ae3d0569-17ff-4c2b-97fd-e62cf7e8d475",
        "colab": {
          "base_uri": "https://localhost:8080/"
        }
      },
      "outputs": [
        {
          "output_type": "execute_result",
          "data": {
            "text/plain": [
              "array([0.      , 0.015625, 0.125   , 0.421875, 1.      ])"
            ]
          },
          "metadata": {},
          "execution_count": 4
        }
      ],
      "source": [
        "from fuzzy_expert.operators import extremely\n",
        "extremely([0, 0.25, 0.5, 0.75, 1])"
      ]
    },
    {
      "cell_type": "code",
      "execution_count": 5,
      "metadata": {
        "id": "uxGAioEA5WiO",
        "outputId": "8227fb0a-8320-45d8-ba59-d8a44c838b84",
        "colab": {
          "base_uri": "https://localhost:8080/"
        }
      },
      "outputs": [
        {
          "output_type": "execute_result",
          "data": {
            "text/plain": [
              "array([0.    , 0.0625, 0.25  , 0.875 , 1.    ])"
            ]
          },
          "metadata": {},
          "execution_count": 5
        }
      ],
      "source": [
        "from fuzzy_expert.operators import intensify\n",
        "intensify([0, 0.25, 0.5, 0.75, 1])"
      ]
    },
    {
      "cell_type": "code",
      "execution_count": 6,
      "metadata": {
        "id": "nAMM-16N5WiO",
        "outputId": "3a6f647b-a3c7-404f-f9cd-e2196197b7e3",
        "colab": {
          "base_uri": "https://localhost:8080/"
        }
      },
      "outputs": [
        {
          "output_type": "execute_result",
          "data": {
            "text/plain": [
              "array([0.        , 0.5       , 0.70710678, 0.8660254 , 1.        ])"
            ]
          },
          "metadata": {},
          "execution_count": 6
        }
      ],
      "source": [
        "from fuzzy_expert.operators import more_or_less\n",
        "more_or_less([0, 0.25, 0.5, 0.75, 1])"
      ]
    },
    {
      "cell_type": "code",
      "execution_count": 7,
      "metadata": {
        "id": "5CDjiWty5WiO",
        "outputId": "093294cb-5ea3-4cfc-f570-63c24c41b2ec",
        "colab": {
          "base_uri": "https://localhost:8080/"
        }
      },
      "outputs": [
        {
          "output_type": "execute_result",
          "data": {
            "text/plain": [
              "array([0. , 0.5, 1. ])"
            ]
          },
          "metadata": {},
          "execution_count": 7
        }
      ],
      "source": [
        "from fuzzy_expert.operators import norm\n",
        "norm([0, 0.25, 0.5])"
      ]
    },
    {
      "cell_type": "code",
      "execution_count": 8,
      "metadata": {
        "id": "t-f9TZok5WiO",
        "outputId": "6ecf062c-67da-40f2-f9ac-01a1bce28c66",
        "colab": {
          "base_uri": "https://localhost:8080/"
        }
      },
      "outputs": [
        {
          "output_type": "execute_result",
          "data": {
            "text/plain": [
              "array([1.  , 0.75, 0.5 , 0.25, 0.  ])"
            ]
          },
          "metadata": {},
          "execution_count": 8
        }
      ],
      "source": [
        "from fuzzy_expert.operators import not_\n",
        "not_([0, 0.25, 0.5, 0.75, 1])"
      ]
    },
    {
      "cell_type": "code",
      "execution_count": 9,
      "metadata": {
        "id": "qo4UeRpM5WiP",
        "outputId": "7084bfde-5be5-432f-e068-d71e5d6a728e",
        "colab": {
          "base_uri": "https://localhost:8080/"
        }
      },
      "outputs": [
        {
          "output_type": "execute_result",
          "data": {
            "text/plain": [
              "array([0.        , 0.1767767 , 0.42044821, 0.69795364, 1.        ])"
            ]
          },
          "metadata": {},
          "execution_count": 9
        }
      ],
      "source": [
        "from fuzzy_expert.operators import plus\n",
        "plus([0, 0.25, 0.5, 0.75, 1])"
      ]
    },
    {
      "cell_type": "code",
      "execution_count": 10,
      "metadata": {
        "id": "W2kzgrqJ5WiP",
        "outputId": "936c5d39-3c78-4946-a47c-70fe0d41f760",
        "colab": {
          "base_uri": "https://localhost:8080/"
        }
      },
      "outputs": [
        {
          "output_type": "execute_result",
          "data": {
            "text/plain": [
              "array([0.        , 0.62996052, 0.79370053, 0.9085603 , 1.        ])"
            ]
          },
          "metadata": {},
          "execution_count": 10
        }
      ],
      "source": [
        "from fuzzy_expert.operators import somewhat\n",
        "somewhat([0, 0.25, 0.5, 0.75, 1])"
      ]
    },
    {
      "cell_type": "code",
      "execution_count": 11,
      "metadata": {
        "id": "SHM_JYKY5WiP",
        "outputId": "b207d305-ff5a-4ffc-dcf4-512cabdb378d",
        "colab": {
          "base_uri": "https://localhost:8080/"
        }
      },
      "outputs": [
        {
          "output_type": "execute_result",
          "data": {
            "text/plain": [
              "array([0.    , 0.0625, 0.25  , 0.5625, 1.    ])"
            ]
          },
          "metadata": {},
          "execution_count": 11
        }
      ],
      "source": [
        "from fuzzy_expert.operators import very\n",
        "very([0, 0.25, 0.5, 0.75, 1])"
      ]
    },
    {
      "cell_type": "code",
      "execution_count": 12,
      "metadata": {
        "id": "t4X72m2o5WiP",
        "outputId": "97c99fcc-fd7a-4e97-9738-ba3031ed5019",
        "colab": {
          "base_uri": "https://localhost:8080/"
        }
      },
      "outputs": [
        {
          "output_type": "execute_result",
          "data": {
            "text/plain": [
              "array([0.        , 0.16326531, 0.99696182, 1.        , 0.        ])"
            ]
          },
          "metadata": {},
          "execution_count": 12
        }
      ],
      "source": [
        "from fuzzy_expert.operators import slightly\n",
        "slightly([0, 0.25, 0.5, 0.75, 1])"
      ]
    },
    {
      "cell_type": "code",
      "execution_count": 13,
      "metadata": {
        "id": "QzSK6IMg5WiQ",
        "outputId": "fecf6a27-fe25-4bce-a0b0-d644daded5d3",
        "colab": {
          "base_uri": "https://localhost:8080/"
        }
      },
      "outputs": [
        {
          "output_type": "execute_result",
          "data": {
            "text/plain": [
              "array([0.  , 0.75, 1.  , 1.  , 1.  ])"
            ]
          },
          "metadata": {},
          "execution_count": 13
        }
      ],
      "source": [
        "from fuzzy_expert.operators import bounded_sum\n",
        "x = [0, 0.25, 0.5, 0.75, 1]\n",
        "bounded_sum([x, x, x])"
      ]
    },
    {
      "cell_type": "code",
      "execution_count": 14,
      "metadata": {
        "id": "5iN5cv2w5WiQ",
        "outputId": "73a4d1e0-692a-4b0d-ac28-6f5fd3f980ff",
        "colab": {
          "base_uri": "https://localhost:8080/"
        }
      },
      "outputs": [
        {
          "output_type": "execute_result",
          "data": {
            "text/plain": [
              "array([0., 0., 0., 0., 1.])"
            ]
          },
          "metadata": {},
          "execution_count": 14
        }
      ],
      "source": [
        "from fuzzy_expert.operators import drastic_prod\n",
        "x = [0, 0.25, 0.5, 0.75, 1]\n",
        "y = [1, 0.75, 0.5, 0.25, 0]\n",
        "drastic_prod([x, y])"
      ]
    },
    {
      "cell_type": "code",
      "execution_count": 15,
      "metadata": {
        "id": "LMgSdYjk5WiQ",
        "outputId": "1798cbe8-12f3-4e18-ea6c-d55f172d503d",
        "colab": {
          "base_uri": "https://localhost:8080/"
        }
      },
      "outputs": [
        {
          "output_type": "execute_result",
          "data": {
            "text/plain": [
              "array([0.1, 1. , 1. , 1. , 0.3])"
            ]
          },
          "metadata": {},
          "execution_count": 15
        }
      ],
      "source": [
        "from fuzzy_expert.operators import drastic_sum\n",
        "x = [0.1, 0.25, 0.5, 0.75, 0.3]\n",
        "y = [0, 0.75, 0.5, 0.25, 0]\n",
        "drastic_sum([x, y])"
      ]
    },
    {
      "cell_type": "code",
      "execution_count": 16,
      "metadata": {
        "id": "rDKRE5B95WiQ",
        "outputId": "5a8098eb-65da-4b24-d6af-4dad238e0d44",
        "colab": {
          "base_uri": "https://localhost:8080/"
        }
      },
      "outputs": [
        {
          "output_type": "execute_result",
          "data": {
            "text/plain": [
              "array([0.      , 0.015625, 0.125   , 0.421875, 1.      ])"
            ]
          },
          "metadata": {},
          "execution_count": 16
        }
      ],
      "source": [
        "from fuzzy_expert.operators import product\n",
        "x = [0, 0.25, 0.5, 0.75, 1]\n",
        "product([x, x, x])"
      ]
    },
    {
      "cell_type": "code",
      "execution_count": 17,
      "metadata": {
        "id": "-IhCZrCW5WiR",
        "outputId": "832a3883-c952-4ae9-bd3a-7f926ba24fc0",
        "colab": {
          "base_uri": "https://localhost:8080/"
        }
      },
      "outputs": [
        {
          "output_type": "execute_result",
          "data": {
            "text/plain": [
              "array([0.1 , 0.75, 0.5 , 0.75, 0.3 ])"
            ]
          },
          "metadata": {},
          "execution_count": 17
        }
      ],
      "source": [
        "from fuzzy_expert.operators import maximum\n",
        "x = [0.1, 0.25, 0.5, 0.75, 0.3]\n",
        "y = [0, 0.75, 0.5, 0.25, 0]\n",
        "maximum([x, y])"
      ]
    },
    {
      "cell_type": "code",
      "execution_count": 18,
      "metadata": {
        "id": "NCtMkCkE5WiR",
        "outputId": "4b4a41a6-5e36-4ee7-b645-2958efd8265b",
        "colab": {
          "base_uri": "https://localhost:8080/"
        }
      },
      "outputs": [
        {
          "output_type": "execute_result",
          "data": {
            "text/plain": [
              "array([0.  , 0.25, 0.5 , 0.25, 0.  ])"
            ]
          },
          "metadata": {},
          "execution_count": 18
        }
      ],
      "source": [
        "from fuzzy_expert.operators import minimum\n",
        "x = [0.1, 0.25, 0.5, 0.75, 0.3]\n",
        "y = [0, 0.75, 0.5, 0.25, 0]\n",
        "minimum([x, y])"
      ]
    },
    {
      "cell_type": "code",
      "execution_count": 19,
      "metadata": {
        "id": "Odzbept45WiR",
        "outputId": "8e6b14ce-8939-402f-bfd0-0702f77822ea",
        "colab": {
          "base_uri": "https://localhost:8080/"
        }
      },
      "outputs": [
        {
          "output_type": "execute_result",
          "data": {
            "text/plain": [
              "array([1.    , 0.9375, 0.75  , 0.4375, 0.    ])"
            ]
          },
          "metadata": {},
          "execution_count": 19
        }
      ],
      "source": [
        "from fuzzy_expert.operators import apply_modifiers\n",
        "x = [0.0, 0.25, 0.5, 0.75, 1]\n",
        "apply_modifiers(x, ('not', 'very'))\n"
      ]
    },
    {
      "cell_type": "code",
      "execution_count": 20,
      "metadata": {
        "id": "bQS3c0445WiR",
        "outputId": "73f81358-a999-46db-e76b-8110f421bc30",
        "colab": {
          "base_uri": "https://localhost:8080/"
        }
      },
      "outputs": [
        {
          "output_type": "execute_result",
          "data": {
            "text/plain": [
              "array([0.1   , 0.8125, 0.75  , 0.8125, 0.3   ])"
            ]
          },
          "metadata": {},
          "execution_count": 20
        }
      ],
      "source": [
        "from fuzzy_expert.operators import prob_or\n",
        "x = [0.1, 0.25, 0.5, 0.75, 0.3]\n",
        "y = [0, 0.75, 0.5, 0.25, 0]\n",
        "prob_or([x, y])"
      ]
    },
    {
      "cell_type": "code",
      "execution_count": 21,
      "metadata": {
        "id": "ZvHkTqiy5WiR",
        "outputId": "8706f7a5-89b6-42cb-b3cd-0ed0e18e1c28",
        "colab": {
          "base_uri": "https://localhost:8080/"
        }
      },
      "outputs": [
        {
          "output_type": "execute_result",
          "data": {
            "text/plain": [
              "array([0. , 0. , 0. , 0.5, 1. ])"
            ]
          },
          "metadata": {},
          "execution_count": 21
        }
      ],
      "source": [
        ">>> from fuzzy_expert.operators import bounded_prod\n",
        ">>> x = [0.1, 0.25, 0.5, 0.75, 1]\n",
        ">>> bounded_prod([x, x])"
      ]
    },
    {
      "cell_type": "code",
      "execution_count": 22,
      "metadata": {
        "id": "jpCJpBIQ5WiR",
        "outputId": "e0ef55cf-193f-451f-b3ea-c8d6e7cfbdff",
        "colab": {
          "base_uri": "https://localhost:8080/"
        }
      },
      "outputs": [
        {
          "output_type": "execute_result",
          "data": {
            "text/plain": [
              "array([0.  , 0.  , 0.  , 0.15, 0.3 ])"
            ]
          },
          "metadata": {},
          "execution_count": 22
        }
      ],
      "source": [
        "    >>> from fuzzy_expert.operators import bounded_diff\n",
        "    >>> x = [0, 0.25, 0.5, 0.75, 1]\n",
        "    >>> y = [0, 0.25, 0.5, 0.6, 0.7]\n",
        "    >>> bounded_diff([x, y])"
      ]
    },
    {
      "cell_type": "code",
      "execution_count": 23,
      "metadata": {
        "id": "WS5zJ2qw5WiS",
        "outputId": "a76de8db-250f-4116-a3b0-29088d42233e",
        "colab": {
          "base_uri": "https://localhost:8080/"
        }
      },
      "outputs": [
        {
          "output_type": "execute_result",
          "data": {
            "text/plain": [
              "2.9166666666666665"
            ]
          },
          "metadata": {},
          "execution_count": 23
        }
      ],
      "source": [
        "    >>> from fuzzy_expert.operators import defuzzificate\n",
        "    >>> u = [0, 1,   2, 3, 4]\n",
        "    >>> m = [0, 0, 0.5, 1, 1]\n",
        "    >>> defuzzificate(u, m, \"cog\")"
      ]
    },
    {
      "cell_type": "code",
      "execution_count": 24,
      "metadata": {
        "id": "P-fVodEL5WiS",
        "outputId": "375b0d75-8197-4619-ac54-0f772eb7e701",
        "colab": {
          "base_uri": "https://localhost:8080/"
        }
      },
      "outputs": [
        {
          "output_type": "execute_result",
          "data": {
            "text/plain": [
              "3.0"
            ]
          },
          "metadata": {},
          "execution_count": 24
        }
      ],
      "source": [
        "    >>> from fuzzy_expert.operators import defuzzificate\n",
        "    >>> u = [0, 1,   2, 3, 4]\n",
        "    >>> m = [0, 0, 0.5, 1, 1]\n",
        "    >>> defuzzificate(u, m, \"boa\")"
      ]
    },
    {
      "cell_type": "code",
      "execution_count": 25,
      "metadata": {
        "id": "bf54ZVas5WiS",
        "outputId": "734f0408-599b-4fb5-8e6d-48503bbc8a45",
        "colab": {
          "base_uri": "https://localhost:8080/"
        }
      },
      "outputs": [
        {
          "output_type": "execute_result",
          "data": {
            "text/plain": [
              "3.5"
            ]
          },
          "metadata": {},
          "execution_count": 25
        }
      ],
      "source": [
        "    >>> from fuzzy_expert.operators import defuzzificate\n",
        "    >>> u = [0, 1,   2, 3, 4]\n",
        "    >>> m = [0, 0, 0.5, 1, 1]\n",
        "    >>> defuzzificate(u, m, \"mom\")"
      ]
    },
    {
      "cell_type": "code",
      "execution_count": 26,
      "metadata": {
        "id": "m7awkdLT5WiS",
        "outputId": "b2a94011-0626-49df-c5fe-fa44641922b6",
        "colab": {
          "base_uri": "https://localhost:8080/"
        }
      },
      "outputs": [
        {
          "output_type": "execute_result",
          "data": {
            "text/plain": [
              "4"
            ]
          },
          "metadata": {},
          "execution_count": 26
        }
      ],
      "source": [
        "    >>> from fuzzy_expert.operators import defuzzificate\n",
        "    >>> u = [0, 1,   2, 3, 4]\n",
        "    >>> m = [0, 0, 0.5, 1, 1]\n",
        "    >>> defuzzificate(u, m, \"lom\")"
      ]
    },
    {
      "cell_type": "code",
      "execution_count": 27,
      "metadata": {
        "id": "8GbXznXn5WiS",
        "outputId": "da148b2d-892e-4be1-a232-f2868fa652f9",
        "colab": {
          "base_uri": "https://localhost:8080/"
        }
      },
      "outputs": [
        {
          "output_type": "execute_result",
          "data": {
            "text/plain": [
              "3"
            ]
          },
          "metadata": {},
          "execution_count": 27
        }
      ],
      "source": [
        "    >>> from fuzzy_expert.operators import defuzzificate\n",
        "    >>> u = [0, 1,   2, 3, 4]\n",
        "    >>> m = [0, 0, 0.5, 1, 1]\n",
        "    >>> defuzzificate(u, m, \"som\")"
      ]
    },
    {
      "cell_type": "code",
      "execution_count": 28,
      "metadata": {
        "id": "sIns1l_Y5WiT",
        "outputId": "8925bec1-6137-4075-9e4f-08b3e58eb6bb",
        "colab": {
          "base_uri": "https://localhost:8080/"
        }
      },
      "outputs": [
        {
          "output_type": "execute_result",
          "data": {
            "text/plain": [
              "[(2, 0),\n",
              " (3.0, 0.1353352832366127),\n",
              " (3.8, 0.48675225595997157),\n",
              " (4.6, 0.9231163463866356),\n",
              " (5.0, 1.0),\n",
              " (5.4, 0.9231163463866356),\n",
              " (6.2, 0.48675225595997157),\n",
              " (7.0, 0.1353352832366127),\n",
              " (8, 0)]"
            ]
          },
          "metadata": {},
          "execution_count": 28
        }
      ],
      "source": [
        "    >>> from fuzzy_expert.mf import MembershipFunction\n",
        "    >>> mf = MembershipFunction(n_points=3)\n",
        "    >>> mf(('gaussmf', 5, 1))"
      ]
    },
    {
      "cell_type": "code",
      "execution_count": 29,
      "metadata": {
        "id": "oT2zHiPx5WiT",
        "outputId": "c29d3f9a-b080-4ffc-dfed-e6770432f4bd",
        "colab": {
          "base_uri": "https://localhost:8080/",
          "height": 265
        }
      },
      "outputs": [
        {
          "output_type": "display_data",
          "data": {
            "text/plain": [
              "<Figure size 432x288 with 1 Axes>"
            ],
            "image/png": "[encoded data removed]"
          },
          "metadata": {
            "needs_background": "light"
          }
        }
      ],
      "source": [
        "    >>> from fuzzy_expert.variable import FuzzyVariable\n",
        "    >>> v = FuzzyVariable(\n",
        "    ...     universe_range=(150, 200),\n",
        "    ...     terms={\n",
        "    ...         \"High\": [(175, 0), (180, 0.2), (185, 0.7), (190, 1)],\n",
        "    ...         \"Low\": [(155, 1), (160, 0.8), (165, 0.5), (170, 0.2), (175, 0)],\n",
        "    ...     },\n",
        "    ... )\n",
        "    >>> v.plot()"
      ]
    },
    {
      "cell_type": "code",
      "execution_count": 30,
      "metadata": {
        "id": "MYd_8e-Z5WiT",
        "outputId": "5ceedc6d-5fde-4ebe-e88d-48276a7ac1ab",
        "colab": {
          "base_uri": "https://localhost:8080/",
          "height": 282
        }
      },
      "outputs": [
        {
          "output_type": "execute_result",
          "data": {
            "text/plain": [
              "<matplotlib.legend.Legend at 0x7f5eec354fd0>"
            ]
          },
          "metadata": {},
          "execution_count": 30
        },
        {
          "output_type": "display_data",
          "data": {
            "text/plain": [
              "<Figure size 432x288 with 1 Axes>"
            ],
            "image/png": "[encoded data removed]"
          },
          "metadata": {
            "needs_background": "light"
          }
        }
      ],
      "source": [
        "    >>> import matplotlib.pyplot as plt\n",
        "    >>> from fuzzy_expert.variable import FuzzyVariable\n",
        "    >>> v = FuzzyVariable(\n",
        "    ...     universe_range=(150, 200),\n",
        "    ...     terms={\n",
        "    ...         \"High\": [(175, 0), (180, 0.2), (185, 0.7), (190, 1)],\n",
        "    ...         \"Low\": [(155, 1), (160, 0.8), (165, 0.5), (170, 0.2), (175, 0)],\n",
        "    ...     },\n",
        "    ... )\n",
        "    >>> y = v.get_modified_membeship('High' ,['extremely'])\n",
        "    >>> plt.plot(v.universe, v['High'], label='High')\n",
        "    >>> plt.plot(v.universe, y, label='extremely High')\n",
        "    >>> plt.legend()"
      ]
    },
    {
      "cell_type": "code",
      "execution_count": 31,
      "metadata": {
        "id": "0lhNIaSL5WiT",
        "outputId": "b2de072e-d70d-46ee-80f7-7eb029439bde",
        "colab": {
          "base_uri": "https://localhost:8080/",
          "height": 265
        }
      },
      "outputs": [
        {
          "output_type": "display_data",
          "data": {
            "text/plain": [
              "<Figure size 432x288 with 1 Axes>"
            ],
            "image/png": "[encoded data removed]"
          },
          "metadata": {
            "needs_background": "light"
          }
        }
      ],
      "source": [
        "    >>> from fuzzy_expert.variable import FuzzyVariable\n",
        "    >>> v = FuzzyVariable(\n",
        "    ...     universe_range=(150, 200),\n",
        "    ...     terms={\n",
        "    ...         \"High\": [(175, 0), (180, 0.2), (185, 0.7), (190, 1)],\n",
        "    ...         \"Low\": [(155, 1), (160, 0.8), (165, 0.5), (170, 0.2), (175, 0)],\n",
        "    ...     },\n",
        "    ... )\n",
        "    >>> v.plot_input(value=185, fuzzyset='High', view_xaxis=True, view_yaxis='right')"
      ]
    },
    {
      "cell_type": "code",
      "execution_count": 32,
      "metadata": {
        "id": "jPvNIdIB5WiU",
        "outputId": "7db0ab63-3fb6-4c0e-d664-a45be903a1c6",
        "colab": {
          "base_uri": "https://localhost:8080/"
        }
      },
      "outputs": [
        {
          "output_type": "execute_result",
          "data": {
            "text/plain": [
              "IF  score IS High\n",
              "    AND ratio IS Goodr\n",
              "    AND credit IS Goodc\n",
              "THEN\n",
              "    decision IS Approve\n",
              "CF = 1.00\n",
              "Threshold-CF = 0.00"
            ]
          },
          "metadata": {},
          "execution_count": 32
        }
      ],
      "source": [
        "    >>> from fuzzy_expert.rule import FuzzyRule\n",
        "    >>> rule = FuzzyRule(\n",
        "    ...     premise=[\n",
        "    ...         (\"score\", \"High\"),\n",
        "    ...         (\"AND\", \"ratio\", \"Goodr\"),\n",
        "    ...         (\"AND\", \"credit\", \"Goodc\"),\n",
        "    ...     ],\n",
        "    ...     consequence=[(\"decision\", \"Approve\")],\n",
        "    ... )\n",
        "    >>> rule"
      ]
    }
  ]
}