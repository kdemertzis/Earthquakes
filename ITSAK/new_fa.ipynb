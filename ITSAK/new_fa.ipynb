{
  "nbformat": 4,
  "nbformat_minor": 0,
  "metadata": {
    "colab": {
      "provenance": [],
      "include_colab_link": true
    },
    "kernelspec": {
      "name": "python3",
      "display_name": "Python 3"
    },
    "language_info": {
      "name": "python"
    }
  },
  "cells": [
    {
      "cell_type": "markdown",
      "metadata": {
        "id": "view-in-github",
        "colab_type": "text"
      },
      "source": [
        "<a href=\"https://colab.research.google.com/github/kdemertzis/Earthquakes/blob/main/ITSAK/new_fa.ipynb\" target=\"_parent\"><img src=\"https://colab.research.google.com/assets/colab-badge.svg\" alt=\"Open In Colab\"/></a>"
      ]
    },
    {
      "cell_type": "code",
      "execution_count": null,
      "metadata": {
        "colab": {
          "base_uri": "https://localhost:8080/"
        },
        "id": "QCO-XDM3ZvT0",
        "outputId": "5a21c357-d606-4d3d-d861-090e9a01174a"
      },
      "outputs": [
        {
          "output_type": "stream",
          "name": "stdout",
          "text": [
            "Model Function: y = 0.7055 * x1 + -0.0682 * x2 + -0.2345 * x3 + -1.8566 * x4 + 0.6204\n",
            "Mean Squared Error: 0.7931\n",
            "R2 Score: 0.8153\n"
          ]
        }
      ],
      "source": [
        "import pandas as pd\n",
        "from sklearn.linear_model import Ridge\n",
        "from sklearn.preprocessing import StandardScaler\n",
        "from sklearn.metrics import mean_squared_error, r2_score\n",
        "\n",
        "# Load the dataset from the URL\n",
        "url = 'https://raw.githubusercontent.com/kdemertzis/Earthquakes/main/ITSAK/ln_1_no_titles.csv'\n",
        "data = pd.read_csv(url, header=None)\n",
        "\n",
        "# Extract the input variables (x1, x2, x3, x4) and the output variable (y)\n",
        "x = data.iloc[:, :-1]\n",
        "y = data.iloc[:, -1]\n",
        "\n",
        "# Standardize the features\n",
        "scaler = StandardScaler()\n",
        "x = scaler.fit_transform(x)\n",
        "\n",
        "# Create a Ridge Regression model\n",
        "model = Ridge(alpha=1.0)  # You can adjust the regularization strength (alpha) as needed\n",
        "\n",
        "# Fit the model on the data\n",
        "model.fit(x, y)\n",
        "\n",
        "# Get the coefficients and intercept\n",
        "coefficients = model.coef_\n",
        "intercept = model.intercept_\n",
        "\n",
        "# Construct the model function\n",
        "model_function = f\"y = {coefficients[0]:.4f} * x1 + {coefficients[1]:.4f} * x2 + {coefficients[2]:.4f} * x3 + {coefficients[3]:.4f} * x4 + {intercept:.4f}\"\n",
        "\n",
        "# Evaluate the model\n",
        "y_pred = model.predict(x)\n",
        "mse = mean_squared_error(y, y_pred)\n",
        "r2 = r2_score(y, y_pred)\n",
        "\n",
        "# Print the model function and performance metrics\n",
        "print(f\"Model Function: {model_function}\")\n",
        "print(f\"Mean Squared Error: {mse:.4f}\")\n",
        "print(f\"R2 Score: {r2:.4f}\")"
      ]
    },
    {
      "cell_type": "code",
      "source": [
        "import pandas as pd\n",
        "from sklearn.linear_model import TheilSenRegressor\n",
        "from sklearn.preprocessing import StandardScaler\n",
        "from sklearn.metrics import mean_squared_error, r2_score\n",
        "\n",
        "# Load the dataset from the URL\n",
        "url = 'https://raw.githubusercontent.com/kdemertzis/Earthquakes/main/ITSAK/ln_1_no_titles.csv'\n",
        "data = pd.read_csv(url, header=None)\n",
        "\n",
        "# Extract the input variables (x1, x2, x3, x4) and the output variable (y)\n",
        "x = data.iloc[:, :-1]\n",
        "y = data.iloc[:, -1]\n",
        "\n",
        "# Standardize the features\n",
        "scaler = StandardScaler()\n",
        "x = scaler.fit_transform(x)\n",
        "\n",
        "# Create a TheilSenRegressor model\n",
        "model = TheilSenRegressor()\n",
        "\n",
        "# Fit the model on the data\n",
        "model.fit(x, y)\n",
        "\n",
        "# Get the coefficients and intercept\n",
        "coefficients = model.coef_\n",
        "intercept = model.intercept_\n",
        "\n",
        "# Construct the model function\n",
        "model_function = \"\"\n",
        "for i, coef in enumerate(coefficients):\n",
        "    model_function += f\" {coef:.4f} * x{i+1} +\"\n",
        "model_function += f\" {intercept:.4f}\"\n",
        "\n",
        "# Evaluate the model\n",
        "y_pred = model.predict(x)\n",
        "mse = mean_squared_error(y, y_pred)\n",
        "r2 = r2_score(y, y_pred)\n",
        "\n",
        "# Print the model function and performance metrics\n",
        "print(f\"Model Function: y = {model_function}\")\n",
        "print(f\"Mean Squared Error: {mse:.4f}\")\n",
        "print(f\"R2 Score: {r2:.4f}\")\n"
      ],
      "metadata": {
        "colab": {
          "base_uri": "https://localhost:8080/"
        },
        "id": "V2Ndvvshi3Pf",
        "outputId": "0fae33fe-7481-47f8-b10e-5e64eb437207"
      },
      "execution_count": null,
      "outputs": [
        {
          "output_type": "stream",
          "name": "stdout",
          "text": [
            "Model Function: y =  0.7900 * x1 + -0.1473 * x2 + -0.3154 * x3 + -2.1405 * x4 + 0.6638\n",
            "Mean Squared Error: 0.8859\n",
            "R2 Score: 0.7936\n"
          ]
        }
      ]
    },
    {
      "cell_type": "code",
      "source": [
        "import pandas as pd\n",
        "from sklearn.linear_model import TheilSenRegressor\n",
        "from sklearn.preprocessing import StandardScaler\n",
        "from sklearn.metrics import mean_squared_error, r2_score\n",
        "from sklearn.model_selection import cross_val_score\n",
        "\n",
        "# Load the dataset from the URL\n",
        "url = 'https://raw.githubusercontent.com/kdemertzis/Earthquakes/main/ITSAK/ln_1_no_titles.csv'\n",
        "data = pd.read_csv(url, header=None)\n",
        "\n",
        "# Extract the input variables (x1, x2, x3, x4) and the output variable (y)\n",
        "x = data.iloc[:, :-1]\n",
        "y = data.iloc[:, -1]\n",
        "\n",
        "# Standardize the features\n",
        "scaler = StandardScaler()\n",
        "x = scaler.fit_transform(x)\n",
        "\n",
        "# Create a TheilSenRegressor model\n",
        "model = TheilSenRegressor()\n",
        "\n",
        "# Perform 10-fold cross-validation\n",
        "cv_scores = cross_val_score(model, x, y, cv=10, scoring='neg_mean_squared_error')\n",
        "\n",
        "# Get the average cross-validation score\n",
        "avg_mse = -cv_scores.mean()\n",
        "\n",
        "# Fit the model on the entire data\n",
        "model.fit(x, y)\n",
        "\n",
        "# Get the coefficients and intercept\n",
        "coefficients = model.coef_\n",
        "intercept = model.intercept_\n",
        "\n",
        "# Construct the model function\n",
        "model_function = \"\"\n",
        "for i, coef in enumerate(coefficients):\n",
        "    model_function += f\" {coef:.4f} * x{i+1} +\"\n",
        "model_function += f\" {intercept:.4f}\"\n",
        "\n",
        "# Evaluate the model on the entire data\n",
        "y_pred = model.predict(x)\n",
        "mse = mean_squared_error(y, y_pred)\n",
        "r2 = r2_score(y, y_pred)\n",
        "\n",
        "# Print the model function, performance metrics, and average cross-validation score\n",
        "print(f\"Model Function: y = {model_function}\")\n",
        "print(f\"Mean Squared Error: {mse:.4f}\")\n",
        "print(f\"R2 Score: {r2:.4f}\")\n",
        "print(f\"Average Cross-Validation MSE: {avg_mse:.4f}\")\n"
      ],
      "metadata": {
        "colab": {
          "base_uri": "https://localhost:8080/"
        },
        "id": "W_zb36tEk3bT",
        "outputId": "1aea321a-da59-4072-efb6-19b0a8ef179d"
      },
      "execution_count": null,
      "outputs": [
        {
          "output_type": "stream",
          "name": "stdout",
          "text": [
            "Model Function: y =  0.7823 * x1 + -0.1494 * x2 + -0.2763 * x3 + -2.1461 * x4 + 0.6851\n",
            "Mean Squared Error: 0.8835\n",
            "R2 Score: 0.7942\n",
            "Average Cross-Validation MSE: 0.8913\n"
          ]
        }
      ]
    }
  ]
}