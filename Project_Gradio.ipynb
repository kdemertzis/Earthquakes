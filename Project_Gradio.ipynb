{
  "nbformat": 4,
  "nbformat_minor": 0,
  "metadata": {
    "colab": {
      "name": "Untitled27.ipynb",
      "provenance": [],
      "authorship_tag": "ABX9TyOSKeV0kUhPln1mKNaxd0ZE",
      "include_colab_link": true
    },
    "kernelspec": {
      "name": "python3",
      "display_name": "Python 3"
    },
    "language_info": {
      "name": "python"
    }
  },
  "cells": [
    {
      "cell_type": "markdown",
      "metadata": {
        "id": "view-in-github",
        "colab_type": "text"
      },
      "source": [
        "<a href=\"https://colab.research.google.com/github/kdemertzis/Earthquakes/blob/main/Project_Gradio.ipynb\" target=\"_parent\"><img src=\"https://colab.research.google.com/assets/colab-badge.svg\" alt=\"Open In Colab\"/></a>"
      ]
    },
    {
      "cell_type": "code",
      "execution_count": 1,
      "metadata": {
        "id": "VkYzelCjxlGj"
      },
      "outputs": [],
      "source": [
        "#!pip install pycaret\n",
        "#!pip install modin\n",
        "#!pip install pyyaml==5.4.1\n",
        "#!pip install -q gradio "
      ]
    },
    {
      "cell_type": "code",
      "source": [
        "import pandas as pd\n",
        "#import modin.pandas as pd\n",
        "#import pycaret\n",
        "#from pycaret.classification import *\n",
        "import gradio as gr\n",
        "import numpy as np\n",
        "import sklearn\n",
        "from sklearn import preprocessing\n",
        "from sklearn.preprocessing import MinMaxScaler\n",
        "from sklearn.preprocessing import LabelEncoder\n",
        "from sklearn.model_selection import train_test_split\n",
        "from sklearn.ensemble import RandomForestClassifier\n",
        "from sklearn.metrics import accuracy_score"
      ],
      "metadata": {
        "id": "vZTsXYJqyC3W"
      },
      "execution_count": 2,
      "outputs": []
    },
    {
      "cell_type": "code",
      "metadata": {
        "id": "nN54XlHHiin4"
      },
      "source": [
        "def encode_HI(df): # Binning HI \n",
        "    df.HI = df.HI.fillna(-0.5)\n",
        "    bins = (-1, -0.5, 0, 0.5, 1)\n",
        "    categories = pd.cut(df.HI, bins, labels=False)\n",
        "    df.HI = categories\n",
        "    return df\n",
        "\n",
        "def encode_PGA(df): # Binning PGA\n",
        "    df.PGA = df.PGA.fillna(-0.5)\n",
        "    bins = (-1, -0.5, 0, 0.5, 1)\n",
        "    categories = pd.cut(df.PGA, bins, labels=False)\n",
        "    df.PGA = categories\n",
        "    return df\n",
        "\n",
        "def encode_VMAX(df): # Binning VMAX\n",
        "    df.VMAX = df.VMAX.fillna(-0.5)\n",
        "    bins = (-1, -0.5, 0, 0.5, 1)\n",
        "    categories = pd.cut(df.VMAX, bins, labels=False)\n",
        "    df.VMAX = categories\n",
        "    return df\n",
        "\n",
        "def encode_ASI(df): # Binning ASI\n",
        "    df.ASI = df.ASI.fillna(-0.5)\n",
        "    bins = (-1, -0.5, 0, 0.5, 1)\n",
        "    categories = pd.cut(df.ASI, bins, labels=False)\n",
        "    df.ASI = categories\n",
        "    return df\n",
        "\n",
        "def encode_TSIGN(df): # Binning TSIGN \n",
        "    df.TSIGN = df.TSIGN.fillna(-0.5)\n",
        "    bins = (-1, -0.5, 0, 0.5, 1)\n",
        "    categories = pd.cut(df.TSIGN, bins, labels=False)\n",
        "    df.TSIGN = categories\n",
        "    return df\n",
        "\n",
        "def encode_TBRAC(df): # Binning TBRAC\n",
        "    df.TBRAC = df.TBRAC.fillna(-0.5)\n",
        "    bins = (-1, -0.5, 0, 0.5, 1)\n",
        "    categories = pd.cut(df.TBRAC, bins, labels=False)\n",
        "    df.TBRAC = categories\n",
        "    return df\n",
        "\n",
        "def encode_PP(df): # Binning PP\n",
        "    df.PP = df.PP.fillna(-0.5)\n",
        "    bins = (-1, -0.5, 0, 0.5, 1)\n",
        "    categories = pd.cut(df.PP, bins, labels=False)\n",
        "    df.PP = categories\n",
        "    return df\n",
        "\n",
        "def encode_CAV(df): # Binning CAV\n",
        "    df.CAV = df.CAV.fillna(-0.5)\n",
        "    bins = (-1, -0.5, 0, 0.5, 1)\n",
        "    categories = pd.cut(df.CAV, bins, labels=False)\n",
        "    df.CAV = categories\n",
        "    return df\n",
        "\n",
        "def encode_SED(df): # Binning SED \n",
        "    df.SED = df.SED.fillna(-0.5)\n",
        "    bins = (-1, -0.5, 0, 0.5, 1)\n",
        "    categories = pd.cut(df.SED, bins, labels=False)\n",
        "    df.SED = categories\n",
        "    return df\n",
        "\n",
        "def encode_TUD(df): # Binning TUD\n",
        "    df.TUD = df.TUD.fillna(-0.5)\n",
        "    bins = (-1, -0.5, 0, 0.5, 1)\n",
        "    categories = pd.cut(df.TUD, bins, labels=False)\n",
        "    df.TUD = categories\n",
        "    return df\n",
        "\n",
        "def encode_EPA(df): # Binning EPA\n",
        "    df.EPA = df.EPA.fillna(-0.5)\n",
        "    bins = (-1, -0.5, 0, 0.5, 1)\n",
        "    categories = pd.cut(df.EPA, bins, labels=False)\n",
        "    df.EPA = categories\n",
        "    return df\n",
        "\n",
        "def encode_PGV(df): # Binning PGV\n",
        "    df.PGV = df.PGV.fillna(-0.5)\n",
        "    bins = (-1, -0.5, 0, 0.5, 1)\n",
        "    categories = pd.cut(df.PGV, bins, labels=False)\n",
        "    df.PGV = categories\n",
        "    return df\n",
        "\n",
        "def encode_PGD(df): # Binning PGD \n",
        "    df.PGD = df.PGD.fillna(-0.5)\n",
        "    bins = (-1, -0.5, 0, 0.5, 1)\n",
        "    categories = pd.cut(df.PGD, bins, labels=False)\n",
        "    df.PGD = categories\n",
        "    return df\n",
        "\n",
        "def encode_IA(df): # Binning IA\n",
        "    df.IA = df.IA.fillna(-0.5)\n",
        "    bins = (-1, -0.5, 0, 0.5, 1)\n",
        "    categories = pd.cut(df.IA, bins, labels=False)\n",
        "    df.IA = categories\n",
        "    return df\n",
        "\n",
        "def encode_HTOT(df): # Binning HTOT\n",
        "    df.HTOT = df.HTOT.fillna(-0.5)\n",
        "    bins = (-1, -0.5, 0, 0.5, 1)\n",
        "    categories = pd.cut(df.HTOT, bins, labels=False)\n",
        "    df.HTOT = categories\n",
        "    return df\n",
        "\n",
        "def encode_ECC(df): # Binning ECC\n",
        "    df.ECC = df.ECC.fillna(-0.5)\n",
        "    bins = (-1, -0.5, 0, 0.5, 1)\n",
        "    categories = pd.cut(df.ECC, bins, labels=False)\n",
        "    df.ECC = categories\n",
        "    return df\n",
        "\n",
        "def encode_VW1(df): # Binning VW1\n",
        "    df.VW1 = df.VW1.fillna(-0.5)\n",
        "    bins = (-1, -0.5, 0, 0.5, 1)\n",
        "    categories = pd.cut(df.VW1, bins, labels=False)\n",
        "    df.VW1 = categories\n",
        "    return df\n",
        "\n",
        "def encode_VW2(df): # Binning VW2\n",
        "    df.VW2 = df.VW2.fillna(-0.5)\n",
        "    bins = (-1, -0.5, 0, 0.5, 1)\n",
        "    categories = pd.cut(df.VW2, bins, labels=False)\n",
        "    df.VW2 = categories\n",
        "    return df"
      ],
      "execution_count": 3,
      "outputs": []
    },
    {
      "cell_type": "code",
      "source": [
        "import warnings\n",
        "warnings.filterwarnings('ignore')\n",
        "\n",
        "data = pd.read_csv('https://raw.githubusercontent.com/kdemertzis/Earthquakes/main/Data/1_3class.csv')\n",
        "\n",
        "def transform_features(df):\n",
        "    df = encode_HI(df)\n",
        "    df = encode_PGA(df)\n",
        "    df = encode_VMAX(df)\n",
        "    df = encode_ASI(df)\n",
        "    df = encode_TSIGN(df)\n",
        "    df = encode_TBRAC(df)\n",
        "    df = encode_PP(df)\n",
        "    df = encode_CAV(df)\n",
        "    df = encode_SED(df)\n",
        "    df = encode_TUD(df)\n",
        "    df = encode_EPA(df)\n",
        "    df = encode_PGV(df)\n",
        "    df = encode_PGD(df)\n",
        "    df = encode_IA(df)\n",
        "    df = encode_HTOT(df)\n",
        "    df = encode_ECC(df)\n",
        "    df = encode_VW1(df)\n",
        "    df = encode_VW2(df)\n",
        "    return df\n",
        "\n",
        "train = data[['HI', 'PGA', 'VMAX', 'ASI', 'TSIGN', 'TBRAC', 'PP', 'CAV', 'SED', 'TUD', 'EPA', 'PGV', 'PGD', 'IA', 'HTOT', 'ECC', 'VW1', 'VW2', 'CLASS']]\n",
        "train = transform_features(train)\n",
        "\n",
        "\n",
        "X_all = train.drop(['CLASS'], axis=1)\n",
        "y_all = train['CLASS']\n",
        "\n",
        "num_test = 0.20\n",
        "X_train, X_test, y_train, y_test = train_test_split(X_all, y_all, test_size=num_test, random_state=23)\n",
        "\n",
        "X_train = X_train.fillna(X_train.mean())\n",
        "X_test = X_test.fillna(X_test.mean())\n",
        "\n",
        "clf = RandomForestClassifier()\n",
        "clf.fit(X_train, y_train)\n",
        "predictions = clf.predict(X_test)\n",
        "print(\"accuracy: \", accuracy_score(y_test, predictions))"
      ],
      "metadata": {
        "id": "i6AUoOjtTS6L",
        "outputId": "f8e2068b-fcc6-45f2-d692-5928392193d2",
        "colab": {
          "base_uri": "https://localhost:8080/"
        }
      },
      "execution_count": 4,
      "outputs": [
        {
          "output_type": "stream",
          "name": "stdout",
          "text": [
            "accuracy:  0.8435897435897436\n"
          ]
        }
      ]
    },
    {
      "cell_type": "code",
      "metadata": {
        "id": "8U2Xk7_gfYHZ"
      },
      "source": [
        "def predict_class(HI, PGA, VMAX, ASI, TSIGN, TBRAC, PP, CAV, SED, TUD, EPA, PGV, PGD, IA, HTOT, ECC, VW1, VW2, CLASS):\n",
        "    df = pd.DataFrame.from_dict({'HI': [HI], 'PGA': [PGA], 'VMAX': [VMAX], 'ASI': [ASI], 'TSIGN': [TSIGN], 'TBRAC': [TBRAC], 'PP': [PP], 'CAV': [CAV], 'SED': [SED], 'TUD': [TUD], 'EPA': [EPA], 'PGV': [PGV], 'PGD': [PGD], 'IA': [IA], 'HTOT': [HTOT], 'ECC': [ECC], 'VW1': [VW1], 'VW2': [VW2]})\n",
        "    df = encode_HI(df)\n",
        "    df = encode_PGA(df)\n",
        "    df = encode_VMAX(df)\n",
        "    df = encode_ASI(df)\n",
        "    df = encode_TSIGN(df)\n",
        "    df = encode_TBRAC(df)\n",
        "    df = encode_PP(df)\n",
        "    df = encode_CAV(df)\n",
        "    df = encode_SED(df)\n",
        "    df = encode_TUD(df)\n",
        "    df = encode_EPA(df)\n",
        "    df = encode_PGV(df)\n",
        "    df = encode_PGD(df)\n",
        "    df = encode_IA(df)\n",
        "    df = encode_HTOT(df)\n",
        "    df = encode_ECC(df)\n",
        "    df = encode_VW1(df)\n",
        "    df = encode_VW2(df)\n",
        "    pred = clf.predict_proba(df)[0]\n",
        "    return {'A': pred[0], 'B': pred[1], 'C': pred[2]}"
      ],
      "execution_count": 5,
      "outputs": []
    },
    {
      "cell_type": "code",
      "source": [
        "HI = gr.inputs.Slider(minimum=-1, maximum=1, default=0.511725, label=\"HI\")\n",
        "PGA = gr.inputs.Slider(minimum=-1, maximum=1, default=0.526247, label=\"PGA\")\n",
        "VMAX = gr.inputs.Slider(minimum=-1, maximum=1, default=0.457893, label=\"VMAX\")\n",
        "ASI = gr.inputs.Slider(minimum=-1, maximum=1, default=0.538082, label=\"ASI\")\n",
        "TSIGN = gr.inputs.Slider(minimum=-1, maximum=1, default=0.437063, label=\"TSIGN\")\n",
        "TBRAC = gr.inputs.Slider(minimum=-1, maximum=1, default=0.373577, label=\"TBRAC\")\n",
        "PP = gr.inputs.Slider(minimum=-1, maximum=1, default=0.404412, label=\"PP\")\n",
        "CAV = gr.inputs.Slider(minimum=-1, maximum=1, default=0.413271, label=\"CAV\")\n",
        "SED = gr.inputs.Slider(minimum=-1, maximum=1, default=0.390118, label=\"SED\")\n",
        "TUD = gr.inputs.Slider(minimum=-1, maximum=1, default=0.421252, label=\"TUD\")\n",
        "EPA = gr.inputs.Slider(minimum=-1, maximum=1, default=0.539786, label=\"EPA\")\n",
        "PGV = gr.inputs.Slider(minimum=-1, maximum=1, default=0.508302, label=\"PGV\")\n",
        "PGD = gr.inputs.Slider(minimum=-1, maximum=1, default=0.546501, label=\"PGD\")\n",
        "IA = gr.inputs.Slider(minimum=-1, maximum=1, default=0.524546, label=\"IA\")\n",
        "HTOT = gr.inputs.Slider(minimum=-1, maximum=1, default=0.816706, label=\"HTOT\")\n",
        "ECC = gr.inputs.Slider(minimum=-1, maximum=1, default=0.635434, label=\"ECC\")\n",
        "VW1 = gr.inputs.Slider(minimum=-1, maximum=1, default=0.674857, label=\"VW1\")\n",
        "VW2 = gr.inputs.Slider(minimum=-1, maximum=1, default=0.761086, label=\"VW2\")\n",
        "gr.Interface(predict_class, [HI, PGA, VMAX, ASI, TSIGN, TBRAC, PP, CAV, SED, TUD, EPA, PGV, PGD, IA, HTOT, ECC, VW1, VW2], \"label\", live=True).launch();"
      ],
      "metadata": {
        "colab": {
          "base_uri": "https://localhost:8080/",
          "height": 591
        },
        "id": "Krfhe4q3ECCz",
        "outputId": "b4a08b63-1ad3-457e-ffed-54eb93372afd"
      },
      "execution_count": 6,
      "outputs": [
        {
          "output_type": "stream",
          "name": "stdout",
          "text": [
            "Colab notebook detected. To show errors in colab notebook, set `debug=True` in `launch()`\n",
            "Running on public URL: https://32272.gradio.app\n",
            "\n",
            "This share link expires in 72 hours. For free permanent hosting, check out Spaces (https://huggingface.co/spaces)\n"
          ]
        },
        {
          "output_type": "display_data",
          "data": {
            "text/html": [
              "\n",
              "        <iframe\n",
              "            width=\"900\"\n",
              "            height=\"500\"\n",
              "            src=\"https://32272.gradio.app\"\n",
              "            frameborder=\"0\"\n",
              "            allowfullscreen\n",
              "        ></iframe>\n",
              "        "
            ],
            "text/plain": [
              "<IPython.lib.display.IFrame at 0x7f6a9280da50>"
            ]
          },
          "metadata": {}
        }
      ]
    }
  ]
}